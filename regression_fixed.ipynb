{
 "cells": [
  {
   "cell_type": "code",
   "execution_count": null,
   "id": "f349199f",
   "metadata": {},
   "outputs": [
    {
     "name": "stderr",
     "output_type": "stream",
     "text": [
      "C:\\Users\\Ansaar\\AppData\\Local\\Temp\\ipykernel_29520\\3702130187.py:10: DtypeWarning: Columns (2) have mixed types. Specify dtype option on import or set low_memory=False.\n",
      "  df = pd.read_csv(\"models/Copper_Set.csv\")\n"
     ]
    },
    {
     "name": "stdout",
     "output_type": "stream",
     "text": [
      "RMSE: 0.1481\n",
      "R2 Score: 0.6113\n"
     ]
    }
   ],
   "source": [
    "import pandas as pd\n",
    "import numpy as np\n",
    "import pickle\n",
    "from sklearn.model_selection import train_test_split\n",
    "from sklearn.preprocessing import StandardScaler\n",
    "from xgboost import XGBRegressor\n",
    "from sklearn.metrics import mean_squared_error, r2_score\n",
    "\n",
    "# Load dataset\n",
    "df = pd.read_csv(\"data/Copper_Set.csv\")\n",
    "\n",
    "# Map categorical fields\n",
    "item_type_mapping = {'W': 1, 'WI': 2, 'S': 3, 'Others': 4, 'PL': 5, 'IPL': 6, 'SLAWR': 7}\n",
    "status_mapping = {'Lost': 0, 'Won': 1}\n",
    "df['item type'] = df['item type'].map(item_type_mapping)\n",
    "df['status'] = df['status'].map(status_mapping)\n",
    "\n",
    "# Convert to numeric safely\n",
    "numeric_cols = ['quantity tons', 'selling_price', 'application', 'thickness', 'width',\n",
    "                'country', 'customer', 'product_ref']\n",
    "df[numeric_cols] = df[numeric_cols].apply(pd.to_numeric, errors='coerce')\n",
    "\n",
    "# Drop rows with missing values before transformation\n",
    "df = df.dropna(subset=numeric_cols)\n",
    "\n",
    "# Remove invalid selling prices (<= 0)\n",
    "df = df[df['selling_price'] > 0]\n",
    "df = df[df['thickness'] > 0]\n",
    "df = df[df['quantity tons'] > 0]\n",
    "\n",
    "# Apply log transformation\n",
    "df['quantity_log'] = np.log(df['quantity tons'])\n",
    "df['selling_price_log'] = np.log(df['selling_price'])\n",
    "df['thickness_log'] = np.log(df['thickness'])\n",
    "\n",
    "# Drop rows with NaN/inf in log-transformed columns (redundant safety)\n",
    "df = df.replace([np.inf, -np.inf], np.nan).dropna()\n",
    "\n",
    "# Define X and y\n",
    "X = df[['quantity_log', 'status', 'item type', 'application', 'thickness_log',\n",
    "        'width', 'country', 'customer', 'product_ref']]\n",
    "y = df['selling_price_log']\n",
    "\n",
    "# Train-test split\n",
    "X_train, X_test, y_train, y_test = train_test_split(X, y, test_size=0.2, random_state=42)\n",
    "\n",
    "# Scaling\n",
    "scaler_reg = StandardScaler()\n",
    "X_train_scaled = scaler_reg.fit_transform(X_train)\n",
    "X_test_scaled = scaler_reg.transform(X_test)\n",
    "\n",
    "# Model training\n",
    "model_reg = XGBRegressor(n_estimators=150, max_depth=6, random_state=42)\n",
    "model_reg.fit(X_train_scaled, y_train)\n",
    "\n",
    "# Evaluation\n",
    "y_pred = model_reg.predict(X_test_scaled)\n",
    "print(f\"RMSE: {np.sqrt(mean_squared_error(y_test, y_pred)):.4f}\")\n",
    "print(f\"R2 Score: {r2_score(y_test, y_pred):.4f}\")\n",
    "\n",
    "# Save model and scaler\n",
    "with open(\"Regression_Model.pkl\", \"wb\") as f:\n",
    "    pickle.dump(model_reg, f)\n",
    "with open(\"scaler_reg.pkl\", \"wb\") as f:\n",
    "    pickle.dump(scaler_reg, f)\n"
   ]
  }
 ],
 "metadata": {
  "kernelspec": {
   "display_name": ".venv",
   "language": "python",
   "name": "python3"
  },
  "language_info": {
   "codemirror_mode": {
    "name": "ipython",
    "version": 3
   },
   "file_extension": ".py",
   "mimetype": "text/x-python",
   "name": "python",
   "nbconvert_exporter": "python",
   "pygments_lexer": "ipython3",
   "version": "3.12.4"
  }
 },
 "nbformat": 4,
 "nbformat_minor": 5
}
