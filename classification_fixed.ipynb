{
 "cells": [
  {
   "cell_type": "code",
   "execution_count": null,
   "id": "fe134dea",
   "metadata": {},
   "outputs": [
    {
     "name": "stderr",
     "output_type": "stream",
     "text": [
      "C:\\Users\\Ansaar\\AppData\\Local\\Temp\\ipykernel_28208\\1396878702.py:11: DtypeWarning: Columns (2) have mixed types. Specify dtype option on import or set low_memory=False.\n",
      "  df = pd.read_csv(\"models/Copper_Set.csv\")\n",
      "d:\\OneDrive\\Desktop\\Industrial_Copper_final\\.venv\\Lib\\site-packages\\pandas\\core\\arraylike.py:399: RuntimeWarning: invalid value encountered in log\n",
      "  result = getattr(ufunc, method)(*inputs, **kwargs)\n",
      "d:\\OneDrive\\Desktop\\Industrial_Copper_final\\.venv\\Lib\\site-packages\\pandas\\core\\arraylike.py:399: RuntimeWarning: invalid value encountered in log\n",
      "  result = getattr(ufunc, method)(*inputs, **kwargs)\n"
     ]
    },
    {
     "name": "stdout",
     "output_type": "stream",
     "text": [
      "[[ 3592  3363]\n",
      " [  223 22911]]\n",
      "              precision    recall  f1-score   support\n",
      "\n",
      "           0       0.94      0.52      0.67      6955\n",
      "           1       0.87      0.99      0.93     23134\n",
      "\n",
      "    accuracy                           0.88     30089\n",
      "   macro avg       0.91      0.75      0.80     30089\n",
      "weighted avg       0.89      0.88      0.87     30089\n",
      "\n"
     ]
    }
   ],
   "source": [
    "import pandas as pd\n",
    "import numpy as np\n",
    "import pickle\n",
    "from sklearn.model_selection import train_test_split\n",
    "from sklearn.preprocessing import StandardScaler\n",
    "from xgboost import XGBClassifier\n",
    "from sklearn.metrics import classification_report, confusion_matrix\n",
    "from sklearn.utils.class_weight import compute_class_weight\n",
    "\n",
    "# Load dataset\n",
    "df = pd.read_csv(\"data/Copper_Set.csv\")\n",
    "\n",
    "# Mappings\n",
    "status_mapping = {'Lost': 0, 'Won': 1}\n",
    "item_type_mapping = {'W': 1, 'WI': 2, 'S': 3, 'Others': 4, 'PL': 5, 'IPL': 6, 'SLAWR': 7}\n",
    "\n",
    "df = df[df['status'].isin(status_mapping.keys())]\n",
    "df['status'] = df['status'].map(status_mapping)\n",
    "df['item type'] = df['item type'].map(item_type_mapping)\n",
    "\n",
    "# Convert expected numeric columns\n",
    "numeric_cols = ['quantity tons', 'selling_price', 'application', 'thickness', 'width',\n",
    "                'country', 'customer', 'product_ref']\n",
    "df[numeric_cols] = df[numeric_cols].apply(pd.to_numeric, errors='coerce')\n",
    "\n",
    "# Drop rows with missing values in features\n",
    "df = df.dropna(subset=numeric_cols)\n",
    "\n",
    "# Log transformations\n",
    "df['quantity_log'] = np.log(df['quantity tons'] + 1e-6)\n",
    "df['selling_price_log'] = np.log(df['selling_price'] + 1e-6)\n",
    "df['thickness_log'] = np.log(df['thickness'] + 1e-6)\n",
    "\n",
    "# Features and target\n",
    "X = df[['quantity_log', 'selling_price_log', 'item type', 'application', 'thickness_log',\n",
    "        'width', 'country', 'customer', 'product_ref']]\n",
    "y = df['status']\n",
    "\n",
    "# Split and scale\n",
    "X_train, X_test, y_train, y_test = train_test_split(X, y, test_size=0.2, random_state=42)\n",
    "\n",
    "scaler_clf = StandardScaler()\n",
    "X_train_scaled = scaler_clf.fit_transform(X_train)\n",
    "X_test_scaled = scaler_clf.transform(X_test)\n",
    "\n",
    "# Handle class imbalance\n",
    "classes = np.unique(y_train)\n",
    "weights = compute_class_weight(class_weight='balanced', classes=classes, y=y_train)\n",
    "class_weights = dict(zip(classes, weights))\n",
    "\n",
    "# Model training\n",
    "model_clf = XGBClassifier(n_estimators=150, max_depth=6, random_state=42, scale_pos_weight=weights[0]/weights[1])\n",
    "model_clf.fit(X_train_scaled, y_train)\n",
    "\n",
    "# Evaluation\n",
    "y_pred = model_clf.predict(X_test_scaled)\n",
    "print(confusion_matrix(y_test, y_pred))\n",
    "print(classification_report(y_test, y_pred))\n",
    "\n",
    "# Save model and scaler\n",
    "with open(\"Classification_Model.pkl\", \"wb\") as f:\n",
    "    pickle.dump(model_clf, f)\n",
    "with open(\"scaler_clf.pkl\", \"wb\") as f:\n",
    "    pickle.dump(scaler_clf, f)\n"
   ]
  }
 ],
 "metadata": {
  "kernelspec": {
   "display_name": ".venv",
   "language": "python",
   "name": "python3"
  },
  "language_info": {
   "codemirror_mode": {
    "name": "ipython",
    "version": 3
   },
   "file_extension": ".py",
   "mimetype": "text/x-python",
   "name": "python",
   "nbconvert_exporter": "python",
   "pygments_lexer": "ipython3",
   "version": "3.12.4"
  }
 },
 "nbformat": 4,
 "nbformat_minor": 5
}
